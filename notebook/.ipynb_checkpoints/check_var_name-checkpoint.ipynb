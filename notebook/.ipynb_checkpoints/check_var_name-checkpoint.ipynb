{
 "cells": [
  {
   "cell_type": "code",
   "execution_count": null,
   "metadata": {},
   "outputs": [],
   "source": [
    "import tensorflow as tf\n",
    "\n",
    "ckpt_dir = '../Model'\n",
    "checkpoint = tf.train.get_checkpoint_state(ckpt_dir)\n",
    "# print checkpoint\n",
    "\n",
    "with tf.Session() as sess:\n",
    "    for var_name, _ in tf.contrib.framework.list_variables(ckpt_dir):\n",
    "        print var_name\n",
    "        # Load the variable\n",
    "        var = tf.contrib.framework.load_variable(ckpt_dir, var_name)\n",
    "#        print type(var)\n"
   ]
  },
  {
   "cell_type": "code",
   "execution_count": 1,
   "metadata": {},
   "outputs": [],
   "source": [
    "import tensorflow as tf\n",
    "import sys\n",
    "sys.path.append('..')\n",
    "import network.resnet_v1"
   ]
  },
  {
   "cell_type": "code",
   "execution_count": 2,
   "metadata": {},
   "outputs": [],
   "source": [
    "x = tf.placeholder(tf.float32, shape=[None,32,32,3])\n",
    "r = network.resnet_v1.ResNet(input_rgb=x)\n",
    "var_list = tf.trainable_variables()\n",
    "for i in var_list:\n",
    "    print i"
   ]
  }
 ],
 "metadata": {
  "kernelspec": {
   "display_name": "Python [conda root]",
   "language": "python",
   "name": "conda-root-py"
  },
  "language_info": {
   "codemirror_mode": {
    "name": "ipython",
    "version": 2
   },
   "file_extension": ".py",
   "mimetype": "text/x-python",
   "name": "python",
   "nbconvert_exporter": "python",
   "pygments_lexer": "ipython2",
   "version": "2.7.13"
  }
 },
 "nbformat": 4,
 "nbformat_minor": 2
}
