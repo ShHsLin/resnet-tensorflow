{
 "cells": [
  {
   "cell_type": "code",
   "execution_count": 132,
   "metadata": {},
   "outputs": [
    {
     "name": "stdout",
     "output_type": "stream",
     "text": [
      "Loaded dataset ../CIFAR10/cifar-10-batches-py:\n",
      "Training Set 45000, Validation Set 5000, Test Set 10000\n",
      "Shape:\n",
      "Training Set: (45000, 32, 32, 3), Label (45000,)\n",
      "Validation Set: (5000, 32, 32, 3), Label (5000,)\n",
      "Test Set: (10000, 32, 32, 3), Label (10000,)\n"
     ]
    }
   ],
   "source": [
    "import numpy as np\n",
    "import tensorflow as tf\n",
    "from resnet import ResNet\n",
    "import os\n",
    "\n",
    "# def image_pad_random_crop(x_batch, pad_size=4):\n",
    "#     batchsize, x_dim, y_dim, _ = x_batch.shape\n",
    "#     pad_image = np.zeros([batchsize, x_dim + pad_size * 2,\n",
    "#                           y_dim + pad_size * 2, 3])\n",
    "#     pad_image[:,pad_size:pad_size + x_dim,\n",
    "#               pad_size:pad_size+y_dim,:] = x_batch\n",
    "#     crop_ind = np.random.randint(2*pad_size, size=(2,batchsize))\n",
    "#     image = np.zeros(x_batch.shape)\n",
    "#     for i in xrange(batchsize):\n",
    "#         image[i] = pad_image[i,crop_ind[0,i]:crop_ind[0,i]+x_dim,\n",
    "#                              crop_ind[1,i]:crop_ind[1,i]+y_dim,:]\n",
    "# \n",
    "#     np.flip(image[batchsize/2:batchsize], axis=2)\n",
    "#     return image\n",
    "\n",
    "def tf_image_augmentation(x_batch, pad_size=4, batchsize=128):\n",
    "    images_pad = tf.image.resize_image_with_crop_or_pad(x_batch, 32 + 2 * pad_size,\n",
    "                                                        32 + 2 * pad_size)\n",
    "    images_pad_crop = tf.random_crop(images_pad, [batchsize, 32, 32, 3])\n",
    "    images_aug = tf.map_fn(lambda img: tf.image.random_flip_left_right(img),\n",
    "                  images_pad_crop)\n",
    "    return images_aug\n",
    "\n",
    "def tf_identity(x_batch):\n",
    "    return tf.identity(x_batch)\n",
    "\n",
    "\n",
    "\n",
    "import read_data\n",
    "params={}\n",
    "params['data_path']='../CIFAR10/cifar-10-batches-py'\n",
    "params['batch_size']=64\n",
    "params['mode']=True\n",
    "\n",
    "CIFAR10 = read_data.CIFAR10(params)\n",
    "data={}\n",
    "data['X_train']= CIFAR10._train_image_set\n",
    "data['y_train']= CIFAR10._train_label_set\n",
    "data['X_val']= CIFAR10._val_image_set\n",
    "data['y_val']= CIFAR10._val_label_set\n",
    "\n",
    "\n",
    "config = tf.ConfigProto(allow_soft_placement=True) # , log_device_placement=True)\n",
    "#config.gpu_options.per_process_gpu_memory_fraction = 0.90\n",
    "config.gpu_options.allow_growth = True\n"
   ]
  },
  {
   "cell_type": "code",
   "execution_count": 159,
   "metadata": {},
   "outputs": [
    {
     "name": "stdout",
     "output_type": "stream",
     "text": [
      "2.8463\n",
      "255 0\n"
     ]
    },
    {
     "data": {
      "image/png": "[encoded data removed]",
      "text/plain": [
       "<matplotlib.figure.Figure at 0x7f1d829f77d0>"
      ]
     },
     "metadata": {},
     "output_type": "display_data"
    }
   ],
   "source": [
    "\n",
    "with tf.device('/gpu:0'):\n",
    "    with tf.Session(config=config) as sess:\n",
    "        ## Set up input image and image augmentation ##\n",
    "        image_size = 32\n",
    "        num_classes = 10\n",
    "        images = tf.placeholder(tf.float32, [None, image_size, image_size, 3])\n",
    "        true_out = tf.placeholder(tf.int64, [None])\n",
    "        aug_or_not = tf.placeholder(tf.bool)\n",
    "\n",
    "        images_aug = tf.cond(aug_or_not,\n",
    "                             lambda: tf_image_augmentation(images),\n",
    "                             lambda: tf_identity(images))\n",
    "        import matplotlib.pyplot as plt \n",
    "        A=sess.run(images_aug, feed_dict={aug_or_not:False, images: data['X_train'][:128]})\n",
    "        a=A[2]\n",
    "        Amax = np.amax(a)\n",
    "        Amin = np.amin(a)\n",
    "        Arange = Amax-Amin \n",
    "        print Arange\n",
    "        aa = np.array(((a-Amin)*255/Arange),dtype=np.int32)\n",
    "        print np.max(aa),np.min(aa)\n",
    "        plt.imshow(np.array(aa,dtype=np.float32))\n",
    "        plt.show()\n",
    "        "
   ]
  },
  {
   "cell_type": "code",
   "execution_count": 149,
   "metadata": {},
   "outputs": [
    {
     "name": "stdout",
     "output_type": "stream",
     "text": [
      "[ 0.  0.  0.]\n"
     ]
    }
   ],
   "source": [
    "print aa[1,1]"
   ]
  },
  {
   "cell_type": "code",
   "execution_count": null,
   "metadata": {
    "collapsed": true
   },
   "outputs": [],
   "source": []
  }
 ],
 "metadata": {
  "kernelspec": {
   "display_name": "Python [conda root]",
   "language": "python",
   "name": "conda-root-py"
  },
  "language_info": {
   "codemirror_mode": {
    "name": "ipython",
    "version": 2
   },
   "file_extension": ".py",
   "mimetype": "text/x-python",
   "name": "python",
   "nbconvert_exporter": "python",
   "pygments_lexer": "ipython2",
   "version": "2.7.13"
  }
 },
 "nbformat": 4,
 "nbformat_minor": 2
}
